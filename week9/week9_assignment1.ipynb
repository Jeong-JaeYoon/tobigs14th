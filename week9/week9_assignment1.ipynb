{
  "nbformat": 4,
  "nbformat_minor": 0,
  "metadata": {
    "colab": {
      "name": "week9_assignment1.ipynb",
      "provenance": []
    },
    "kernelspec": {
      "name": "python3",
      "display_name": "Python 3"
    }
  },
  "cells": [
    {
      "cell_type": "code",
      "metadata": {
        "id": "pXaCA8SsEDvB",
        "colab_type": "code",
        "colab": {
          "base_uri": "https://localhost:8080/",
          "height": 34
        },
        "outputId": "bde0375a-33c3-43ea-aaf4-f5339be83e33"
      },
      "source": [
        "from google.colab import drive\n",
        "drive.mount('/content/drive')"
      ],
      "execution_count": 2,
      "outputs": [
        {
          "output_type": "stream",
          "text": [
            "Mounted at /content/drive\n"
          ],
          "name": "stdout"
        }
      ]
    },
    {
      "cell_type": "code",
      "metadata": {
        "id": "IFU4QAYIEQzj",
        "colab_type": "code",
        "colab": {
          "base_uri": "https://localhost:8080/",
          "height": 34
        },
        "outputId": "000382c5-a0c9-4006-84e3-1a0fe05fd19d"
      },
      "source": [
        "cd /content/drive/My Drive/week9/assignment1"
      ],
      "execution_count": 3,
      "outputs": [
        {
          "output_type": "stream",
          "text": [
            "/content/drive/My Drive/week9/assignment1\n"
          ],
          "name": "stdout"
        }
      ]
    },
    {
      "cell_type": "code",
      "metadata": {
        "id": "0gV6ecdIEj3_",
        "colab_type": "code",
        "colab": {
          "base_uri": "https://localhost:8080/",
          "height": 52
        },
        "outputId": "e86dac74-2848-495b-c7da-de0b4882432e"
      },
      "source": [
        "ls"
      ],
      "execution_count": 4,
      "outputs": [
        {
          "output_type": "stream",
          "text": [
            "best_model  custom_models.py  main.py    \u001b[0m\u001b[01;34m__pycache__\u001b[0m/\n",
            "CRNN.pdf    \u001b[01;34mdataset\u001b[0m/          models.py  utils.py\n"
          ],
          "name": "stdout"
        }
      ]
    },
    {
      "cell_type": "code",
      "metadata": {
        "id": "jTpLtjpgEwMy",
        "colab_type": "code",
        "colab": {
          "base_uri": "https://localhost:8080/",
          "height": 1000
        },
        "outputId": "83083850-9d13-4534-a6c4-919b456c4a23"
      },
      "source": [
        "! python main.py"
      ],
      "execution_count": 38,
      "outputs": [
        {
          "output_type": "stream",
          "text": [
            "CRNN(\n",
            "  (cnn): Sequential(\n",
            "    (conv0): Conv2d(1, 64, kernel_size=(3, 3), stride=(1, 1), padding=(1, 1))\n",
            "    (relu0): ReLU(inplace=True)\n",
            "    (pooling0): MaxPool2d(kernel_size=2, stride=2, padding=0, dilation=1, ceil_mode=False)\n",
            "    (conv1): Conv2d(64, 128, kernel_size=(3, 3), stride=(1, 1), padding=(1, 1))\n",
            "    (relu1): ReLU(inplace=True)\n",
            "    (pooling1): MaxPool2d(kernel_size=2, stride=2, padding=0, dilation=1, ceil_mode=False)\n",
            "    (conv2): Conv2d(128, 256, kernel_size=(3, 3), stride=(1, 1), padding=(1, 1))\n",
            "    (batchnorm2): BatchNorm2d(256, eps=1e-05, momentum=0.1, affine=True, track_running_stats=True)\n",
            "    (relu2): ReLU(inplace=True)\n",
            "    (conv3): Conv2d(256, 256, kernel_size=(3, 3), stride=(1, 1), padding=(1, 1))\n",
            "    (relu3): ReLU(inplace=True)\n",
            "    (pooling2): MaxPool2d(kernel_size=(2, 2), stride=(2, 1), padding=(0, 1), dilation=1, ceil_mode=False)\n",
            "    (conv4): Conv2d(256, 512, kernel_size=(3, 3), stride=(1, 1), padding=(1, 1))\n",
            "    (batchnorm4): BatchNorm2d(512, eps=1e-05, momentum=0.1, affine=True, track_running_stats=True)\n",
            "    (relu4): ReLU(inplace=True)\n",
            "    (conv5): Conv2d(512, 512, kernel_size=(3, 3), stride=(1, 1), padding=(1, 1))\n",
            "    (relu5): ReLU(inplace=True)\n",
            "    (pooling3): MaxPool2d(kernel_size=(2, 2), stride=(2, 1), padding=(0, 1), dilation=1, ceil_mode=False)\n",
            "    (conv6): Conv2d(512, 512, kernel_size=(2, 2), stride=(1, 1))\n",
            "    (batchnorm6): BatchNorm2d(512, eps=1e-05, momentum=0.1, affine=True, track_running_stats=True)\n",
            "    (relu6): ReLU(inplace=True)\n",
            "  )\n",
            "  (rnn): Sequential(\n",
            "    (0): BidirectionalLSTM(\n",
            "      (rnn): LSTM(512, 256, bidirectional=True)\n",
            "      (embedding): Linear(in_features=512, out_features=256, bias=True)\n",
            "    )\n",
            "    (1): BidirectionalLSTM(\n",
            "      (rnn): LSTM(256, 256, bidirectional=True)\n",
            "      (embedding): Linear(in_features=512, out_features=37, bias=True)\n",
            "    )\n",
            "  )\n",
            ")\n",
            "epochs:  0\n",
            "<----training---->\n",
            "100% 16/16 [01:39<00:00,  6.23s/it]\n",
            "<----evaluation---->\n",
            "100% 8/8 [00:16<00:00,  2.01s/it]\n",
            "test loss:  tensor(0.4149, grad_fn=<AddBackward0>)\n",
            "best model 저장 성공\n",
            "epochs:  1\n",
            "<----training---->\n",
            "100% 16/16 [01:39<00:00,  6.20s/it]\n",
            "<----evaluation---->\n",
            "100% 8/8 [00:15<00:00,  2.00s/it]\n",
            "test loss:  tensor(0.4150, grad_fn=<AddBackward0>)\n",
            "epochs:  2\n",
            "<----training---->\n",
            "100% 16/16 [01:38<00:00,  6.15s/it]\n",
            "<----evaluation---->\n",
            "100% 8/8 [00:15<00:00,  1.94s/it]\n",
            "test loss:  tensor(0.4185, grad_fn=<AddBackward0>)\n",
            "epochs:  3\n",
            "<----training---->\n",
            "100% 16/16 [01:39<00:00,  6.24s/it]\n",
            "<----evaluation---->\n",
            "100% 8/8 [00:15<00:00,  1.89s/it]\n",
            "test loss:  tensor(0.4134, grad_fn=<AddBackward0>)\n",
            "best model 저장 성공\n",
            "epochs:  4\n",
            "<----training---->\n",
            "100% 16/16 [01:38<00:00,  6.18s/it]\n",
            "<----evaluation---->\n",
            "100% 8/8 [00:15<00:00,  1.88s/it]\n",
            "test loss:  tensor(0.4174, grad_fn=<AddBackward0>)\n",
            "epochs:  5\n",
            "<----training---->\n",
            "100% 16/16 [01:40<00:00,  6.29s/it]\n",
            "<----evaluation---->\n",
            "100% 8/8 [00:15<00:00,  1.91s/it]\n",
            "test loss:  tensor(0.4319, grad_fn=<AddBackward0>)\n",
            "epochs:  6\n",
            "<----training---->\n",
            "100% 16/16 [01:40<00:00,  6.27s/it]\n",
            "<----evaluation---->\n",
            "100% 8/8 [00:15<00:00,  1.94s/it]\n",
            "test loss:  tensor(0.4173, grad_fn=<AddBackward0>)\n",
            "epochs:  7\n",
            "<----training---->\n",
            "100% 16/16 [01:39<00:00,  6.23s/it]\n",
            "<----evaluation---->\n",
            "100% 8/8 [00:15<00:00,  1.92s/it]\n",
            "test loss:  tensor(0.4421, grad_fn=<AddBackward0>)\n",
            "epochs:  8\n",
            "<----training---->\n",
            "100% 16/16 [01:39<00:00,  6.24s/it]\n",
            "<----evaluation---->\n",
            "100% 8/8 [00:15<00:00,  1.88s/it]\n",
            "test loss:  tensor(0.4125, grad_fn=<AddBackward0>)\n",
            "best model 저장 성공\n",
            "epochs:  9\n",
            "<----training---->\n",
            "100% 16/16 [01:38<00:00,  6.18s/it]\n",
            "<----evaluation---->\n",
            "100% 8/8 [00:15<00:00,  1.90s/it]\n",
            "test loss:  tensor(0.4267, grad_fn=<AddBackward0>)\n",
            "epochs:  10\n",
            "<----training---->\n",
            "100% 16/16 [01:39<00:00,  6.22s/it]\n",
            "<----evaluation---->\n",
            "100% 8/8 [00:14<00:00,  1.87s/it]\n",
            "test loss:  tensor(0.4301, grad_fn=<AddBackward0>)\n",
            "epochs:  11\n",
            "<----training---->\n",
            "100% 16/16 [01:38<00:00,  6.13s/it]\n",
            "<----evaluation---->\n",
            "100% 8/8 [00:15<00:00,  1.88s/it]\n",
            "test loss:  tensor(0.4221, grad_fn=<AddBackward0>)\n",
            "epochs:  12\n",
            "<----training---->\n",
            "100% 16/16 [01:37<00:00,  6.08s/it]\n",
            "<----evaluation---->\n",
            "100% 8/8 [00:15<00:00,  1.91s/it]\n",
            "test loss:  tensor(0.4183, grad_fn=<AddBackward0>)\n",
            "epochs:  13\n",
            "<----training---->\n",
            "100% 16/16 [01:39<00:00,  6.24s/it]\n",
            "<----evaluation---->\n",
            "100% 8/8 [00:15<00:00,  1.91s/it]\n",
            "test loss:  tensor(0.4359, grad_fn=<AddBackward0>)\n",
            "epochs:  14\n",
            "<----training---->\n",
            "100% 16/16 [01:39<00:00,  6.22s/it]\n",
            "<----evaluation---->\n",
            "100% 8/8 [00:15<00:00,  1.93s/it]\n",
            "test loss:  tensor(0.4107, grad_fn=<AddBackward0>)\n",
            "best model 저장 성공\n",
            "epochs:  15\n",
            "<----training---->\n",
            "100% 16/16 [01:38<00:00,  6.17s/it]\n",
            "<----evaluation---->\n",
            "100% 8/8 [00:16<00:00,  2.04s/it]\n",
            "test loss:  tensor(0.4239, grad_fn=<AddBackward0>)\n",
            "epochs:  16\n",
            "<----training---->\n",
            "100% 16/16 [01:38<00:00,  6.15s/it]\n",
            "<----evaluation---->\n",
            "100% 8/8 [00:14<00:00,  1.86s/it]\n",
            "test loss:  tensor(0.4469, grad_fn=<AddBackward0>)\n",
            "epochs:  17\n",
            "<----training---->\n",
            "100% 16/16 [01:38<00:00,  6.13s/it]\n",
            "<----evaluation---->\n",
            "100% 8/8 [00:15<00:00,  1.90s/it]\n",
            "test loss:  tensor(0.4220, grad_fn=<AddBackward0>)\n",
            "epochs:  18\n",
            "<----training---->\n",
            "100% 16/16 [01:39<00:00,  6.19s/it]\n",
            "<----evaluation---->\n",
            "100% 8/8 [00:15<00:00,  1.92s/it]\n",
            "test loss:  tensor(0.4264, grad_fn=<AddBackward0>)\n",
            "epochs:  19\n",
            "<----training---->\n",
            "100% 16/16 [01:41<00:00,  6.33s/it]\n",
            "<----evaluation---->\n",
            "100% 8/8 [00:15<00:00,  1.92s/it]\n",
            "test loss:  tensor(0.4144, grad_fn=<AddBackward0>)\n",
            "epochs:  20\n",
            "<----training---->\n",
            "100% 16/16 [01:41<00:00,  6.32s/it]\n",
            "<----evaluation---->\n",
            "100% 8/8 [00:15<00:00,  1.91s/it]\n",
            "test loss:  tensor(0.4228, grad_fn=<AddBackward0>)\n",
            "epochs:  21\n",
            "<----training---->\n",
            "100% 16/16 [01:41<00:00,  6.37s/it]\n",
            "<----evaluation---->\n",
            "100% 8/8 [00:15<00:00,  1.95s/it]\n",
            "test loss:  tensor(0.4297, grad_fn=<AddBackward0>)\n",
            "epochs:  22\n",
            "<----training---->\n",
            "100% 16/16 [01:38<00:00,  6.17s/it]\n",
            "<----evaluation---->\n",
            "100% 8/8 [00:15<00:00,  1.88s/it]\n",
            "test loss:  tensor(0.4346, grad_fn=<AddBackward0>)\n",
            "epochs:  23\n",
            "<----training---->\n",
            "100% 16/16 [01:38<00:00,  6.18s/it]\n",
            "<----evaluation---->\n",
            "100% 8/8 [00:15<00:00,  1.89s/it]\n",
            "test loss:  tensor(0.4265, grad_fn=<AddBackward0>)\n",
            "epochs:  24\n",
            "<----training---->\n",
            "100% 16/16 [01:38<00:00,  6.13s/it]\n",
            "<----evaluation---->\n",
            "100% 8/8 [00:14<00:00,  1.84s/it]\n",
            "test loss:  tensor(0.4209, grad_fn=<AddBackward0>)\n",
            "epochs:  25\n",
            "<----training---->\n",
            "100% 16/16 [01:38<00:00,  6.15s/it]\n",
            "<----evaluation---->\n",
            "100% 8/8 [00:15<00:00,  1.89s/it]\n",
            "test loss:  tensor(0.4500, grad_fn=<AddBackward0>)\n",
            "epochs:  26\n",
            "<----training---->\n",
            "100% 16/16 [01:40<00:00,  6.27s/it]\n",
            "<----evaluation---->\n",
            "100% 8/8 [00:15<00:00,  1.90s/it]\n",
            "test loss:  tensor(0.4138, grad_fn=<AddBackward0>)\n",
            "epochs:  27\n",
            "<----training---->\n",
            "100% 16/16 [01:38<00:00,  6.13s/it]\n",
            "<----evaluation---->\n",
            "100% 8/8 [00:15<00:00,  1.89s/it]\n",
            "test loss:  tensor(0.4154, grad_fn=<AddBackward0>)\n",
            "epochs:  28\n",
            "<----training---->\n",
            "100% 16/16 [01:38<00:00,  6.18s/it]\n",
            "<----evaluation---->\n",
            "100% 8/8 [00:15<00:00,  1.88s/it]\n",
            "test loss:  tensor(0.4132, grad_fn=<AddBackward0>)\n",
            "epochs:  29\n",
            "<----training---->\n",
            "100% 16/16 [01:38<00:00,  6.16s/it]\n",
            "<----evaluation---->\n",
            "100% 8/8 [00:15<00:00,  1.88s/it]\n",
            "test loss:  tensor(0.4122, grad_fn=<AddBackward0>)\n"
          ],
          "name": "stdout"
        }
      ]
    },
    {
      "cell_type": "code",
      "metadata": {
        "id": "9LI3EbCeE48f",
        "colab_type": "code",
        "colab": {}
      },
      "source": [
        ""
      ],
      "execution_count": 23,
      "outputs": []
    }
  ]
}