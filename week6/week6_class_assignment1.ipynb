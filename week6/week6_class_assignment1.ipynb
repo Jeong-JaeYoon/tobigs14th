{
 "cells": [
  {
   "cell_type": "markdown",
   "metadata": {},
   "source": [
    "# Class Assignment1"
   ]
  },
  {
   "cell_type": "markdown",
   "metadata": {},
   "source": [
    "class 첫 번째 과제는 Vector_2D class를 받아서 Vector_3d class를 만드는 과제였다. 기본적인 구조는 아래와 같이 제시됐다."
   ]
  },
  {
   "cell_type": "code",
   "execution_count": null,
   "metadata": {},
   "outputs": [],
   "source": [
    "from Vector_2D import Vector_2d\n",
    "\n",
    "class Vector_3d (\"\"):\n",
    "    def __init__(self, x,y,z):\n",
    "        \n",
    "        \n",
    "    def __add__(self, other):\n",
    "        \n",
    "    \n",
    "    def __neg__(self):\n",
    "        \n",
    "    \n",
    "    def __sub__(self, other):\n",
    "        # + (add) 와 - (neg) 기호를 활용해보셔도 좋아요\n",
    "    \n",
    "    def __repr__(self):\n",
    "        \n"
   ]
  },
  {
   "cell_type": "markdown",
   "metadata": {},
   "source": [
    "우선 가장 simple한 방법으로 class를 만들어보기로 했다. 코드는 아래와 같다. 직관적으로 이해할 수 있으므로 설명은 생략하기로 했다."
   ]
  },
  {
   "cell_type": "code",
   "execution_count": 4,
   "metadata": {},
   "outputs": [],
   "source": [
    "from Vector_2D import Vector_2d\n",
    "\n",
    "class Vector_3d(Vector_2d):\n",
    "    def __init__(self, x, y, z):\n",
    "        self.x = x\n",
    "        self.y = y\n",
    "        self.z = z\n",
    "        \n",
    "    def __add__(self, other):\n",
    "        return Vector_3d(self.x + other.x, self.y + other.y, self.z + other.z)\n",
    "    \n",
    "    def __neg__(self):\n",
    "        return Vector_3d(-self.x, -self.y, -self.z)\n",
    "    \n",
    "    def __sub__(self,other):\n",
    "        return Vector_3d(self.x - other.x, self.y - other.y, self.z - other.z)\n",
    "    \n",
    "    def __repr__(self):\n",
    "        return f'Vector({self.x}, {self.y}, {self.z})'"
   ]
  },
  {
   "cell_type": "code",
   "execution_count": 5,
   "metadata": {},
   "outputs": [
    {
     "name": "stdout",
     "output_type": "stream",
     "text": [
      "Vector(9, 2, 3)\n",
      "Vector(-1, -4, 1)\n"
     ]
    }
   ],
   "source": [
    "v1 = Vector_3d(4,-1,2)\n",
    "v2 = Vector_3d(5,3,1)\n",
    "\n",
    "print(v1+v2)\n",
    "print(v1-v2)"
   ]
  },
  {
   "cell_type": "markdown",
   "metadata": {},
   "source": [
    "결과가 제대로 나오는 것을 확인할 수 있다.  \n",
    "\n",
    "그러나 출제자는 sub에서 - 기호를 사용하는 것이 아닌 __add__와 __neg__ 를 사용하길 언급했다. 그래서 아래와 같이 새롭게 클래스 메소드를 만들었다. 눈에 띄는 부분은 __sub__ 파트이다. 우선 other로 받아오는 vector에 __neg__ 를 진행하고 그 값을 __add__ 에 넣음으로써 - 연산과 같은 연산을 하게끔했다."
   ]
  },
  {
   "cell_type": "code",
   "execution_count": 6,
   "metadata": {},
   "outputs": [],
   "source": [
    "from Vector_2D import Vector_2d\n",
    "\n",
    "class Vector_3d(Vector_2d):\n",
    "    def __init__(self, x, y, z):\n",
    "        self.x = x\n",
    "        self.y = y\n",
    "        self.z = z\n",
    "        \n",
    "    def __add__(self, other):\n",
    "        return Vector_3d(self.x + other.x, self.y + other.y, self.z + other.z)\n",
    "    \n",
    "    def __neg__(self):\n",
    "        return Vector_3d(-self.x, -self.y, -self.z)\n",
    "    \n",
    "    def __sub__(self,other):\n",
    "        return self.__add__(other.__neg__())\n",
    "    \n",
    "    def __repr__(self):\n",
    "        return f'Vector({self.x}, {self.y}, {self.z})'"
   ]
  },
  {
   "cell_type": "code",
   "execution_count": 7,
   "metadata": {},
   "outputs": [
    {
     "name": "stdout",
     "output_type": "stream",
     "text": [
      "Vector(9, 2, 3)\n",
      "Vector(-1, -4, 1)\n"
     ]
    }
   ],
   "source": [
    "v1 = Vector_3d(4,-1,2)\n",
    "v2 = Vector_3d(5,3,1)\n",
    "\n",
    "print(v1+v2)\n",
    "print(v1-v2)"
   ]
  },
  {
   "cell_type": "markdown",
   "metadata": {},
   "source": [
    "결과 역시 위와 동일하다는 것을 알 수 있다."
   ]
  }
 ],
 "metadata": {
  "kernelspec": {
   "display_name": "Python 3",
   "language": "python",
   "name": "python3"
  },
  "language_info": {
   "codemirror_mode": {
    "name": "ipython",
    "version": 3
   },
   "file_extension": ".py",
   "mimetype": "text/x-python",
   "name": "python",
   "nbconvert_exporter": "python",
   "pygments_lexer": "ipython3",
   "version": "3.7.6"
  }
 },
 "nbformat": 4,
 "nbformat_minor": 4
}
